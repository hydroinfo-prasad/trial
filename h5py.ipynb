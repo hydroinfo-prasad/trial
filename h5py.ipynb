# -*- coding: utf-8 -*-
"""
Created on Wed Jan 15 11:45:26 2020

@author: HWRE02
"""

import matplotlib.pyplot as plt
import numpy as np
import h5py

#fog_file = "FOG.h5"
#fog_h5 = h5py.File(fog_file,'r')
#print('Contents of the h5 file are')
#print(list(fog_h5.keys()))
#fog =np.array( h5['FOG'])
#fog_plot = fog[0,:,:]
##plt.imshow(fog_plot)
#
#
#cloud_file = "CMK.h5"
#import matplotlib.pyplot as plt
#cloud_h5 = h5py.File(cloud_file,'r')
#print('Contents of the h5 file are')
#print(list(cloud_h5.keys()))
#cloud =np.array( cloud_h5['CMK'])
#cloud_plot = cloud[0,:,:]
#plt.imshow(cloud_plot)

std_file = "STD_night.h5"
std_h5 = h5py.File(std_file,'r')
print('Contents of the h5 file are')
print(list(std_h5.keys()))
IMG_TIR1_TEMP =np.array( std_h5['IMG_TIR1_TEMP'])
IMG_TIR1_RADIANCE=np.array( std_h5['IMG_TIR1_RADIANCE'])
IMG_TIR1=np.array( std_h5['IMG_TIR1'])
IMG_TIR1_raw = IMG_TIR1[0,:,:]
#plt.imshow(IMG_TIR1_plot)
#plt.imhist(IMG_TIR1_plot)
#plt.hist(IMG_TIR1_raw[:,:])

IMG_TIR1_BTD = IMG_TIR1_raw.copy()
IMG_TIR1_BTD = np.array([IMG_TIR1_TEMP[i] for i in IMG_TIR1_BTD])

IMG_TIR1_BTD_flatten = IMG_TIR1_BTD.flatten()
plt.hist(IMG_TIR1_BTD_flatten,bins=100,range=(200,300),histtype='step')
plt.xlabel('Brightness temp in degree K')
plt.ylabel('Number of pixels')
plt.show()
xmin,xmax = 1000,2000
ymin,ymax = 500,1000

IMG_TIR1_BTD_ROI = IMG_TIR1_BTD[ymin:ymax,xmin:xmax ]
IMG_TIR1_BTD_ROI_flatten = IMG_TIR1_BTD_ROI.flatten()
plt.hist(IMG_TIR1_BTD_ROI_flatten,bins=100,range=(181,300),histtype='step')
IMG_TIR1_BTD_ROI_cloud = np.copy(IMG_TIR1_BTD_ROI)
thresh = 259
IMG_TIR1_BTD_ROI_cloud[IMG_TIR1_BTD_ROI_cloud<thresh ] = 0
IMG_TIR1_BTD_ROI_cloud[IMG_TIR1_BTD_ROI_cloud>thresh ] = 1

plt.imshow(IMG_TIR1_BTD_ROI_cloud)